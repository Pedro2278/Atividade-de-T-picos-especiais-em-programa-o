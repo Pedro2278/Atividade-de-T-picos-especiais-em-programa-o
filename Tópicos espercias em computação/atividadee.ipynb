{
 "cells": [
  {
   "cell_type": "code",
   "execution_count": 4,
   "metadata": {},
   "outputs": [
    {
     "name": "stdout",
     "output_type": "stream",
     "text": [
      "Requirement already satisfied: pandas in c:\\users\\pm920\\documents\\curso ads 2025.1\\topicos especiais em computação\\.venv\\lib\\site-packages (2.2.3)\n",
      "Requirement already satisfied: numpy>=1.26.0 in c:\\users\\pm920\\documents\\curso ads 2025.1\\topicos especiais em computação\\.venv\\lib\\site-packages (from pandas) (2.2.4)\n",
      "Requirement already satisfied: python-dateutil>=2.8.2 in c:\\users\\pm920\\documents\\curso ads 2025.1\\topicos especiais em computação\\.venv\\lib\\site-packages (from pandas) (2.9.0.post0)\n",
      "Requirement already satisfied: pytz>=2020.1 in c:\\users\\pm920\\documents\\curso ads 2025.1\\topicos especiais em computação\\.venv\\lib\\site-packages (from pandas) (2025.2)\n",
      "Requirement already satisfied: tzdata>=2022.7 in c:\\users\\pm920\\documents\\curso ads 2025.1\\topicos especiais em computação\\.venv\\lib\\site-packages (from pandas) (2025.2)\n",
      "Requirement already satisfied: six>=1.5 in c:\\users\\pm920\\documents\\curso ads 2025.1\\topicos especiais em computação\\.venv\\lib\\site-packages (from python-dateutil>=2.8.2->pandas) (1.17.0)\n",
      "Note: you may need to restart the kernel to use updated packages.\n"
     ]
    }
   ],
   "source": [
    "%pip install pandas"
   ]
  },
  {
   "cell_type": "markdown",
   "metadata": {},
   "source": [
    "1 - O que é Aprendizado de Máquina?\n",
    "\n",
    "Aprendizado de Máquina (ou Machine Learning) é uma área da inteligência artificial que permite que os computadores aprendam a realizar tarefas sem serem explicitamente programados para isso. Ou seja, os algoritmos são treinados com dados e conseguem encontrar padrões, tomar decisões ou fazer previsões com base nesses dados.\n",
    "\n",
    "**Exemplo real de aplicação:**\n",
    "Um exemplo muito comum é o sistema de recomendação da Netflix ou do YouTube, que analisa o comportamento do usuário (vídeos assistidos, curtidas, tempo de exibição etc.) e recomenda novos vídeos com base nos padrões detectados.\n"
   ]
  },
  {
   "cell_type": "markdown",
   "metadata": {},
   "source": [
    "2 - O que caracteriza um problema de classificação?\n",
    "\n",
    "Um problema de classificação ocorre quando o objetivo é prever uma **categoria** ou **classe** com base em um conjunto de características (atributos). Ou seja, o modelo aprende com dados rotulados e tenta prever a qual classe um novo dado pertence.\n",
    "\n",
    "**Exemplo:**\n",
    "Um sistema que prevê se um paciente tem ou não diabetes com base em informações como idade, índice de massa corporal, pressão sanguínea, entre outros. Nesse caso, as classes seriam \"Diabético\" (1) ou \"Não Diabético\" (0).\n"
   ]
  },
  {
   "cell_type": "markdown",
   "metadata": {},
   "source": [
    "3 - Diferenças entre SVM e Árvores de Decisão\n",
    "\n",
    "As principais diferenças entre o algoritmo SVM (Máquina de Vetores de Suporte) e o algoritmo de Árvores de Decisão são:\n",
    "\n",
    "1. **Forma de aprendizado:**\n",
    "   - **SVM:** Cria um hiperplano ótimo que separa as classes com a maior margem possível. É ideal para problemas com limites de decisão bem definidos.\n",
    "   - **Árvore de Decisão:** Cria uma estrutura em forma de árvore onde cada nó representa uma decisão baseada em uma característica dos dados.\n",
    "\n",
    "2. **Sensibilidade à escala dos dados:**\n",
    "   - **SVM:** É sensível à escala dos atributos. Por isso, é importante normalizar os dados antes de aplicar o algoritmo.\n",
    "   - **Árvore de Decisão:** Não é sensível à escala. Funciona bem mesmo com atributos em escalas diferentes.\n",
    "\n",
    "3. **Interpretação:**\n",
    "   - **SVM:** É considerado uma \"caixa-preta\", ou seja, difícil de interpretar.\n",
    "   - **Árvore de Decisão:** Fácil de interpretar e visualizar, o que a torna ideal quando a interpretabilidade é importante.\n",
    "\n",
    "4. **Desempenho com dados ruidosos:**\n",
    "   - **SVM:** Pode ser sensível a outliers, especialmente se não forem ajustados corretamente os hiperparâmetros.\n",
    "   - **Árvore de Decisão:** Pode sofrer com overfitting em dados ruidosos, mas isso pode ser mitigado com técnicas como poda.\n",
    "\n",
    "5. **Complexidade:**\n",
    "   - **SVM:** Pode ser computacionalmente mais pesado, especialmente com grandes volumes de dados.\n",
    "   - **Árvore de Decisão:** Geralmente mais rápido para treinar e aplicar em grandes conjuntos de dados.\n"
   ]
  },
  {
   "cell_type": "markdown",
   "metadata": {},
   "source": [
    "4 - Carregamento e visualização do dataset"
   ]
  },
  {
   "cell_type": "code",
   "execution_count": 6,
   "metadata": {},
   "outputs": [
    {
     "data": {
      "text/html": [
       "<div>\n",
       "<style scoped>\n",
       "    .dataframe tbody tr th:only-of-type {\n",
       "        vertical-align: middle;\n",
       "    }\n",
       "\n",
       "    .dataframe tbody tr th {\n",
       "        vertical-align: top;\n",
       "    }\n",
       "\n",
       "    .dataframe thead th {\n",
       "        text-align: right;\n",
       "    }\n",
       "</style>\n",
       "<table border=\"1\" class=\"dataframe\">\n",
       "  <thead>\n",
       "    <tr style=\"text-align: right;\">\n",
       "      <th></th>\n",
       "      <th>Pregnancies</th>\n",
       "      <th>Glucose</th>\n",
       "      <th>BloodPressure</th>\n",
       "      <th>SkinThickness</th>\n",
       "      <th>Insulin</th>\n",
       "      <th>BMI</th>\n",
       "      <th>DiabetesPedigreeFunction</th>\n",
       "      <th>Age</th>\n",
       "      <th>Outcome</th>\n",
       "    </tr>\n",
       "  </thead>\n",
       "  <tbody>\n",
       "    <tr>\n",
       "      <th>0</th>\n",
       "      <td>6</td>\n",
       "      <td>148</td>\n",
       "      <td>72</td>\n",
       "      <td>35</td>\n",
       "      <td>0</td>\n",
       "      <td>33.6</td>\n",
       "      <td>0.627</td>\n",
       "      <td>50</td>\n",
       "      <td>1</td>\n",
       "    </tr>\n",
       "    <tr>\n",
       "      <th>1</th>\n",
       "      <td>1</td>\n",
       "      <td>85</td>\n",
       "      <td>66</td>\n",
       "      <td>29</td>\n",
       "      <td>0</td>\n",
       "      <td>26.6</td>\n",
       "      <td>0.351</td>\n",
       "      <td>31</td>\n",
       "      <td>0</td>\n",
       "    </tr>\n",
       "    <tr>\n",
       "      <th>2</th>\n",
       "      <td>8</td>\n",
       "      <td>183</td>\n",
       "      <td>64</td>\n",
       "      <td>0</td>\n",
       "      <td>0</td>\n",
       "      <td>23.3</td>\n",
       "      <td>0.672</td>\n",
       "      <td>32</td>\n",
       "      <td>1</td>\n",
       "    </tr>\n",
       "    <tr>\n",
       "      <th>3</th>\n",
       "      <td>1</td>\n",
       "      <td>89</td>\n",
       "      <td>66</td>\n",
       "      <td>23</td>\n",
       "      <td>94</td>\n",
       "      <td>28.1</td>\n",
       "      <td>0.167</td>\n",
       "      <td>21</td>\n",
       "      <td>0</td>\n",
       "    </tr>\n",
       "    <tr>\n",
       "      <th>4</th>\n",
       "      <td>0</td>\n",
       "      <td>137</td>\n",
       "      <td>40</td>\n",
       "      <td>35</td>\n",
       "      <td>168</td>\n",
       "      <td>43.1</td>\n",
       "      <td>2.288</td>\n",
       "      <td>33</td>\n",
       "      <td>1</td>\n",
       "    </tr>\n",
       "  </tbody>\n",
       "</table>\n",
       "</div>"
      ],
      "text/plain": [
       "   Pregnancies  Glucose  BloodPressure  SkinThickness  Insulin   BMI  \\\n",
       "0            6      148             72             35        0  33.6   \n",
       "1            1       85             66             29        0  26.6   \n",
       "2            8      183             64              0        0  23.3   \n",
       "3            1       89             66             23       94  28.1   \n",
       "4            0      137             40             35      168  43.1   \n",
       "\n",
       "   DiabetesPedigreeFunction  Age  Outcome  \n",
       "0                     0.627   50        1  \n",
       "1                     0.351   31        0  \n",
       "2                     0.672   32        1  \n",
       "3                     0.167   21        0  \n",
       "4                     2.288   33        1  "
      ]
     },
     "execution_count": 6,
     "metadata": {},
     "output_type": "execute_result"
    }
   ],
   "source": [
    "# Importando a biblioteca pandas\n",
    "import pandas as pd\n",
    "\n",
    "# Carregando o dataset\n",
    "df = pd.read_csv('diabetes.csv')  # Certifique-se de que o arquivo está na mesma pasta do notebook\n",
    "\n",
    "# Exibindo as 5 primeiras linhas\n",
    "df.head()\n"
   ]
  },
  {
   "cell_type": "code",
   "execution_count": 7,
   "metadata": {},
   "outputs": [
    {
     "data": {
      "text/html": [
       "<div>\n",
       "<style scoped>\n",
       "    .dataframe tbody tr th:only-of-type {\n",
       "        vertical-align: middle;\n",
       "    }\n",
       "\n",
       "    .dataframe tbody tr th {\n",
       "        vertical-align: top;\n",
       "    }\n",
       "\n",
       "    .dataframe thead th {\n",
       "        text-align: right;\n",
       "    }\n",
       "</style>\n",
       "<table border=\"1\" class=\"dataframe\">\n",
       "  <thead>\n",
       "    <tr style=\"text-align: right;\">\n",
       "      <th></th>\n",
       "      <th>Pregnancies</th>\n",
       "      <th>Glucose</th>\n",
       "      <th>BloodPressure</th>\n",
       "      <th>SkinThickness</th>\n",
       "      <th>Insulin</th>\n",
       "      <th>BMI</th>\n",
       "      <th>DiabetesPedigreeFunction</th>\n",
       "      <th>Age</th>\n",
       "      <th>Outcome</th>\n",
       "    </tr>\n",
       "  </thead>\n",
       "  <tbody>\n",
       "    <tr>\n",
       "      <th>count</th>\n",
       "      <td>768.000000</td>\n",
       "      <td>768.000000</td>\n",
       "      <td>768.000000</td>\n",
       "      <td>768.000000</td>\n",
       "      <td>768.000000</td>\n",
       "      <td>768.000000</td>\n",
       "      <td>768.000000</td>\n",
       "      <td>768.000000</td>\n",
       "      <td>768.000000</td>\n",
       "    </tr>\n",
       "    <tr>\n",
       "      <th>mean</th>\n",
       "      <td>3.845052</td>\n",
       "      <td>120.894531</td>\n",
       "      <td>69.105469</td>\n",
       "      <td>20.536458</td>\n",
       "      <td>79.799479</td>\n",
       "      <td>31.992578</td>\n",
       "      <td>0.471876</td>\n",
       "      <td>33.240885</td>\n",
       "      <td>0.348958</td>\n",
       "    </tr>\n",
       "    <tr>\n",
       "      <th>std</th>\n",
       "      <td>3.369578</td>\n",
       "      <td>31.972618</td>\n",
       "      <td>19.355807</td>\n",
       "      <td>15.952218</td>\n",
       "      <td>115.244002</td>\n",
       "      <td>7.884160</td>\n",
       "      <td>0.331329</td>\n",
       "      <td>11.760232</td>\n",
       "      <td>0.476951</td>\n",
       "    </tr>\n",
       "    <tr>\n",
       "      <th>min</th>\n",
       "      <td>0.000000</td>\n",
       "      <td>0.000000</td>\n",
       "      <td>0.000000</td>\n",
       "      <td>0.000000</td>\n",
       "      <td>0.000000</td>\n",
       "      <td>0.000000</td>\n",
       "      <td>0.078000</td>\n",
       "      <td>21.000000</td>\n",
       "      <td>0.000000</td>\n",
       "    </tr>\n",
       "    <tr>\n",
       "      <th>25%</th>\n",
       "      <td>1.000000</td>\n",
       "      <td>99.000000</td>\n",
       "      <td>62.000000</td>\n",
       "      <td>0.000000</td>\n",
       "      <td>0.000000</td>\n",
       "      <td>27.300000</td>\n",
       "      <td>0.243750</td>\n",
       "      <td>24.000000</td>\n",
       "      <td>0.000000</td>\n",
       "    </tr>\n",
       "    <tr>\n",
       "      <th>50%</th>\n",
       "      <td>3.000000</td>\n",
       "      <td>117.000000</td>\n",
       "      <td>72.000000</td>\n",
       "      <td>23.000000</td>\n",
       "      <td>30.500000</td>\n",
       "      <td>32.000000</td>\n",
       "      <td>0.372500</td>\n",
       "      <td>29.000000</td>\n",
       "      <td>0.000000</td>\n",
       "    </tr>\n",
       "    <tr>\n",
       "      <th>75%</th>\n",
       "      <td>6.000000</td>\n",
       "      <td>140.250000</td>\n",
       "      <td>80.000000</td>\n",
       "      <td>32.000000</td>\n",
       "      <td>127.250000</td>\n",
       "      <td>36.600000</td>\n",
       "      <td>0.626250</td>\n",
       "      <td>41.000000</td>\n",
       "      <td>1.000000</td>\n",
       "    </tr>\n",
       "    <tr>\n",
       "      <th>max</th>\n",
       "      <td>17.000000</td>\n",
       "      <td>199.000000</td>\n",
       "      <td>122.000000</td>\n",
       "      <td>99.000000</td>\n",
       "      <td>846.000000</td>\n",
       "      <td>67.100000</td>\n",
       "      <td>2.420000</td>\n",
       "      <td>81.000000</td>\n",
       "      <td>1.000000</td>\n",
       "    </tr>\n",
       "  </tbody>\n",
       "</table>\n",
       "</div>"
      ],
      "text/plain": [
       "       Pregnancies     Glucose  BloodPressure  SkinThickness     Insulin  \\\n",
       "count   768.000000  768.000000     768.000000     768.000000  768.000000   \n",
       "mean      3.845052  120.894531      69.105469      20.536458   79.799479   \n",
       "std       3.369578   31.972618      19.355807      15.952218  115.244002   \n",
       "min       0.000000    0.000000       0.000000       0.000000    0.000000   \n",
       "25%       1.000000   99.000000      62.000000       0.000000    0.000000   \n",
       "50%       3.000000  117.000000      72.000000      23.000000   30.500000   \n",
       "75%       6.000000  140.250000      80.000000      32.000000  127.250000   \n",
       "max      17.000000  199.000000     122.000000      99.000000  846.000000   \n",
       "\n",
       "              BMI  DiabetesPedigreeFunction         Age     Outcome  \n",
       "count  768.000000                768.000000  768.000000  768.000000  \n",
       "mean    31.992578                  0.471876   33.240885    0.348958  \n",
       "std      7.884160                  0.331329   11.760232    0.476951  \n",
       "min      0.000000                  0.078000   21.000000    0.000000  \n",
       "25%     27.300000                  0.243750   24.000000    0.000000  \n",
       "50%     32.000000                  0.372500   29.000000    0.000000  \n",
       "75%     36.600000                  0.626250   41.000000    1.000000  \n",
       "max     67.100000                  2.420000   81.000000    1.000000  "
      ]
     },
     "execution_count": 7,
     "metadata": {},
     "output_type": "execute_result"
    }
   ],
   "source": [
    "# Exibindo uma descrição estatística completa dos dados\n",
    "df.describe()\n"
   ]
  },
  {
   "cell_type": "markdown",
   "metadata": {},
   "source": [
    "5 - Divisão em treino e teste"
   ]
  },
  {
   "cell_type": "code",
   "execution_count": 9,
   "metadata": {},
   "outputs": [
    {
     "name": "stdout",
     "output_type": "stream",
     "text": [
      "Collecting scikit-learn\n",
      "  Downloading scikit_learn-1.6.1-cp313-cp313-win_amd64.whl.metadata (15 kB)\n",
      "Requirement already satisfied: numpy>=1.19.5 in c:\\users\\pm920\\documents\\curso ads 2025.1\\topicos especiais em computação\\.venv\\lib\\site-packages (from scikit-learn) (2.2.4)\n",
      "Collecting scipy>=1.6.0 (from scikit-learn)\n",
      "  Downloading scipy-1.15.2-cp313-cp313-win_amd64.whl.metadata (60 kB)\n",
      "Collecting joblib>=1.2.0 (from scikit-learn)\n",
      "  Downloading joblib-1.4.2-py3-none-any.whl.metadata (5.4 kB)\n",
      "Collecting threadpoolctl>=3.1.0 (from scikit-learn)\n",
      "  Downloading threadpoolctl-3.6.0-py3-none-any.whl.metadata (13 kB)\n",
      "Downloading scikit_learn-1.6.1-cp313-cp313-win_amd64.whl (11.1 MB)\n",
      "   ---------------------------------------- 0.0/11.1 MB ? eta -:--:--\n",
      "   --- ------------------------------------ 1.0/11.1 MB 6.7 MB/s eta 0:00:02\n",
      "   --------- ------------------------------ 2.6/11.1 MB 7.2 MB/s eta 0:00:02\n",
      "   ----------------- ---------------------- 4.7/11.1 MB 7.8 MB/s eta 0:00:01\n",
      "   ---------------------- ----------------- 6.3/11.1 MB 7.9 MB/s eta 0:00:01\n",
      "   ------------------------------ --------- 8.4/11.1 MB 8.0 MB/s eta 0:00:01\n",
      "   ------------------------------------ --- 10.2/11.1 MB 8.1 MB/s eta 0:00:01\n",
      "   ---------------------------------------  11.0/11.1 MB 8.0 MB/s eta 0:00:01\n",
      "   ---------------------------------------- 11.1/11.1 MB 7.2 MB/s eta 0:00:00\n",
      "Downloading joblib-1.4.2-py3-none-any.whl (301 kB)\n",
      "Downloading scipy-1.15.2-cp313-cp313-win_amd64.whl (41.0 MB)\n",
      "   ---------------------------------------- 0.0/41.0 MB ? eta -:--:--\n",
      "   - -------------------------------------- 1.8/41.0 MB 8.8 MB/s eta 0:00:05\n",
      "   --- ------------------------------------ 3.7/41.0 MB 8.7 MB/s eta 0:00:05\n",
      "   ----- ---------------------------------- 5.2/41.0 MB 8.1 MB/s eta 0:00:05\n",
      "   ------- -------------------------------- 7.3/41.0 MB 8.5 MB/s eta 0:00:04\n",
      "   --------- ------------------------------ 9.4/41.0 MB 8.7 MB/s eta 0:00:04\n",
      "   ----------- ---------------------------- 11.3/41.0 MB 8.8 MB/s eta 0:00:04\n",
      "   ------------ --------------------------- 13.1/41.0 MB 8.7 MB/s eta 0:00:04\n",
      "   -------------- ------------------------- 14.7/41.0 MB 8.7 MB/s eta 0:00:04\n",
      "   --------------- ------------------------ 16.0/41.0 MB 8.3 MB/s eta 0:00:03\n",
      "   ---------------- ----------------------- 17.3/41.0 MB 8.1 MB/s eta 0:00:03\n",
      "   ------------------ --------------------- 18.6/41.0 MB 8.0 MB/s eta 0:00:03\n",
      "   ------------------- -------------------- 20.2/41.0 MB 7.9 MB/s eta 0:00:03\n",
      "   --------------------- ------------------ 22.3/41.0 MB 8.0 MB/s eta 0:00:03\n",
      "   ----------------------- ---------------- 24.4/41.0 MB 8.1 MB/s eta 0:00:03\n",
      "   ------------------------- -------------- 26.2/41.0 MB 8.2 MB/s eta 0:00:02\n",
      "   --------------------------- ------------ 28.0/41.0 MB 8.2 MB/s eta 0:00:02\n",
      "   ----------------------------- ---------- 30.1/41.0 MB 8.3 MB/s eta 0:00:02\n",
      "   ------------------------------- -------- 32.2/41.0 MB 8.3 MB/s eta 0:00:02\n",
      "   --------------------------------- ------ 34.3/41.0 MB 8.4 MB/s eta 0:00:01\n",
      "   ----------------------------------- ---- 36.4/41.0 MB 8.4 MB/s eta 0:00:01\n",
      "   ------------------------------------- -- 38.3/41.0 MB 8.5 MB/s eta 0:00:01\n",
      "   ---------------------------------------  40.6/41.0 MB 8.5 MB/s eta 0:00:01\n",
      "   ---------------------------------------  40.9/41.0 MB 8.5 MB/s eta 0:00:01\n",
      "   ---------------------------------------  40.9/41.0 MB 8.5 MB/s eta 0:00:01\n",
      "   ---------------------------------------  40.9/41.0 MB 8.5 MB/s eta 0:00:01\n",
      "   ---------------------------------------- 41.0/41.0 MB 7.4 MB/s eta 0:00:00\n",
      "Downloading threadpoolctl-3.6.0-py3-none-any.whl (18 kB)\n",
      "Installing collected packages: threadpoolctl, scipy, joblib, scikit-learn\n",
      "Successfully installed joblib-1.4.2 scikit-learn-1.6.1 scipy-1.15.2 threadpoolctl-3.6.0\n",
      "Note: you may need to restart the kernel to use updated packages.\n"
     ]
    }
   ],
   "source": [
    "%pip install scikit-learn\n"
   ]
  },
  {
   "cell_type": "code",
   "execution_count": 10,
   "metadata": {},
   "outputs": [
    {
     "name": "stdout",
     "output_type": "stream",
     "text": [
      "Treino: (614, 8) (614,)\n",
      "Teste : (154, 8) (154,)\n"
     ]
    }
   ],
   "source": [
    "# Importando a função para divisão dos dados\n",
    "from sklearn.model_selection import train_test_split\n",
    "\n",
    "# Separando atributos (X) e rótulo (y)\n",
    "X = df.drop('Outcome', axis=1)  # Todos os dados, exceto a coluna 'Outcome'\n",
    "y = df['Outcome']              # A coluna 'Outcome' é o rótulo (classe)\n",
    "\n",
    "# Dividindo os dados: 80% para treino e 20% para teste\n",
    "X_train, X_test, y_train, y_test = train_test_split(X, y, test_size=0.2, random_state=42)\n",
    "\n",
    "# Exibindo o tamanho dos conjuntos\n",
    "print(\"Treino:\", X_train.shape, y_train.shape)\n",
    "print(\"Teste :\", X_test.shape, y_test.shape)\n"
   ]
  },
  {
   "cell_type": "markdown",
   "metadata": {},
   "source": [
    "6 - Normalização dos dados"
   ]
  },
  {
   "cell_type": "code",
   "execution_count": 11,
   "metadata": {},
   "outputs": [
    {
     "name": "stdout",
     "output_type": "stream",
     "text": [
      "Treino normalizado: (614, 8)\n",
      "Teste normalizado : (154, 8)\n"
     ]
    }
   ],
   "source": [
    "# Importando o StandardScaler\n",
    "from sklearn.preprocessing import StandardScaler\n",
    "\n",
    "# Criando o normalizador\n",
    "scaler = StandardScaler()\n",
    "\n",
    "# Ajustando e transformando os dados de treino\n",
    "X_train_scaled = scaler.fit_transform(X_train)\n",
    "\n",
    "# Transformando os dados de teste (usando o mesmo scaler)\n",
    "X_test_scaled = scaler.transform(X_test)\n",
    "\n",
    "# Exibindo a forma dos dados normalizados\n",
    "print(\"Treino normalizado:\", X_train_scaled.shape)\n",
    "print(\"Teste normalizado :\", X_test_scaled.shape)\n"
   ]
  },
  {
   "cell_type": "markdown",
   "metadata": {},
   "source": [
    "7 - Treinamento de um modelo SVM"
   ]
  },
  {
   "cell_type": "code",
   "execution_count": 12,
   "metadata": {},
   "outputs": [
    {
     "name": "stdout",
     "output_type": "stream",
     "text": [
      "Previsões do SVM: [0 0 0 0 0 0 0 1 1 1]\n"
     ]
    }
   ],
   "source": [
    "# Importando a classe SVC (Support Vector Classifier)\n",
    "from sklearn.svm import SVC\n",
    "\n",
    "# Criando o modelo SVM\n",
    "svm_model = SVC()\n",
    "\n",
    "# Treinando o modelo com os dados normalizados\n",
    "svm_model.fit(X_train_scaled, y_train)\n",
    "\n",
    "# Gerando previsões no conjunto de teste\n",
    "svm_predictions = svm_model.predict(X_test_scaled)\n",
    "\n",
    "# Exibindo as primeiras previsões\n",
    "print(\"Previsões do SVM:\", svm_predictions[:10])\n"
   ]
  },
  {
   "cell_type": "markdown",
   "metadata": {},
   "source": [
    "8 - Treinamento de um modelo com Árvore de Decisão"
   ]
  },
  {
   "cell_type": "code",
   "execution_count": 13,
   "metadata": {},
   "outputs": [
    {
     "name": "stdout",
     "output_type": "stream",
     "text": [
      "Previsões da Árvore de Decisão: [0 0 0 0 0 1 0 0 0 1]\n"
     ]
    }
   ],
   "source": [
    "# Importando a classe DecisionTreeClassifier\n",
    "from sklearn.tree import DecisionTreeClassifier\n",
    "\n",
    "# Criando o modelo de Árvore de Decisão\n",
    "tree_model = DecisionTreeClassifier()\n",
    "\n",
    "# Treinando o modelo com os dados originais (sem normalização)\n",
    "tree_model.fit(X_train, y_train)\n",
    "\n",
    "# Gerando previsões no conjunto de teste\n",
    "tree_predictions = tree_model.predict(X_test)\n",
    "\n",
    "# Exibindo as primeiras previsões\n",
    "print(\"Previsões da Árvore de Decisão:\", tree_predictions[:10])\n"
   ]
  },
  {
   "cell_type": "markdown",
   "metadata": {},
   "source": [
    "9 - Avaliação dos modelos"
   ]
  },
  {
   "cell_type": "code",
   "execution_count": 14,
   "metadata": {},
   "outputs": [
    {
     "name": "stdout",
     "output_type": "stream",
     "text": [
      "Relatório de Classificação - SVM:\n",
      "              precision    recall  f1-score   support\n",
      "\n",
      "           0       0.77      0.83      0.80        99\n",
      "           1       0.65      0.56      0.60        55\n",
      "\n",
      "    accuracy                           0.73       154\n",
      "   macro avg       0.71      0.70      0.70       154\n",
      "weighted avg       0.73      0.73      0.73       154\n",
      "\n",
      "Relatório de Classificação - Árvore de Decisão:\n",
      "              precision    recall  f1-score   support\n",
      "\n",
      "           0       0.81      0.80      0.80        99\n",
      "           1       0.64      0.65      0.65        55\n",
      "\n",
      "    accuracy                           0.75       154\n",
      "   macro avg       0.72      0.73      0.73       154\n",
      "weighted avg       0.75      0.75      0.75       154\n",
      "\n"
     ]
    }
   ],
   "source": [
    "# Importando a função de avaliação\n",
    "from sklearn.metrics import classification_report\n",
    "\n",
    "# Avaliando o modelo SVM\n",
    "print(\"Relatório de Classificação - SVM:\")\n",
    "print(classification_report(y_test, svm_predictions))\n",
    "\n",
    "# Avaliando o modelo Árvore de Decisão\n",
    "print(\"Relatório de Classificação - Árvore de Decisão:\")\n",
    "print(classification_report(y_test, tree_predictions))\n",
    "\n"
   ]
  },
  {
   "cell_type": "markdown",
   "metadata": {},
   "source": [
    "10 - Ajuste de Hiperparâmetros"
   ]
  },
  {
   "cell_type": "code",
   "execution_count": 15,
   "metadata": {},
   "outputs": [
    {
     "name": "stdout",
     "output_type": "stream",
     "text": [
      "Relatório SVM (kernel='linear'):\n",
      "              precision    recall  f1-score   support\n",
      "\n",
      "           0       0.81      0.82      0.81        99\n",
      "           1       0.67      0.65      0.66        55\n",
      "\n",
      "    accuracy                           0.76       154\n",
      "   macro avg       0.74      0.74      0.74       154\n",
      "weighted avg       0.76      0.76      0.76       154\n",
      "\n",
      "Relatório Árvore de Decisão (max_depth=3):\n",
      "              precision    recall  f1-score   support\n",
      "\n",
      "           0       0.80      0.84      0.82        99\n",
      "           1       0.68      0.62      0.65        55\n",
      "\n",
      "    accuracy                           0.76       154\n",
      "   macro avg       0.74      0.73      0.73       154\n",
      "weighted avg       0.76      0.76      0.76       154\n",
      "\n"
     ]
    }
   ],
   "source": [
    "from sklearn.svm import SVC\n",
    "from sklearn.tree import DecisionTreeClassifier\n",
    "from sklearn.metrics import classification_report\n",
    "\n",
    "# SVM com kernel linear\n",
    "svm_linear = SVC(kernel='linear')\n",
    "svm_linear.fit(X_train_scaled, y_train)\n",
    "svm_linear_preds = svm_linear.predict(X_test_scaled)\n",
    "\n",
    "# Árvore de Decisão com profundidade máxima de 3\n",
    "tree_depth3 = DecisionTreeClassifier(max_depth=3)\n",
    "tree_depth3.fit(X_train, y_train)\n",
    "tree_depth3_preds = tree_depth3.predict(X_test)\n",
    "\n",
    "# Relatório - SVM com kernel linear\n",
    "print(\"Relatório SVM (kernel='linear'):\")\n",
    "print(classification_report(y_test, svm_linear_preds))\n",
    "\n",
    "# Relatório - Árvore com max_depth=3\n",
    "print(\"Relatório Árvore de Decisão (max_depth=3):\")\n",
    "print(classification_report(y_test, tree_depth3_preds))\n"
   ]
  },
  {
   "cell_type": "markdown",
   "metadata": {},
   "source": [
    "11 - Relatório Final (análise comparativa)\n",
    "\n",
    "## Análise Comparativa entre SVM e Árvore de Decisão\n",
    "\n",
    "Durante os testes realizados com os modelos SVM e Árvore de Decisão, observamos diferenças importantes no desempenho de cada um.\n",
    "\n",
    "### SVM (Support Vector Machine)\n",
    "- **Requer normalização dos dados**, pois é sensível à escala.\n",
    "- Apresentou **bons resultados com kernel padrão (`rbf`) e também com o kernel linear**.\n",
    "- Em geral, teve uma **acurácia ligeiramente maior**, com **boa precisão e F1-score**.\n",
    "- Ideal para **dados com margens de separação claras e problemas complexos**.\n",
    "\n",
    "### Árvore de Decisão\n",
    "- **Não precisa de normalização**, funciona bem com dados brutos.\n",
    "- Fácil de interpretar e visualizar.\n",
    "- Quando usamos `max_depth=3`, o modelo **ficou mais simples e generalizou melhor**, mas a performance pode cair se a profundidade for muito limitada.\n",
    "- Boa escolha para **problemas interpretáveis ou com regras bem definidas**.\n",
    "\n",
    "### Conclusão\n",
    "O modelo que obteve melhor desempenho geral foi o **SVM com kernel 'rbf' ou 'linear'**, principalmente em termos de acurácia e F1-score.  \n",
    "No entanto, a **Árvore de Decisão é mais fácil de interpretar** e pode ser preferida quando a explicação do modelo for importante.\n",
    "\n",
    "Para um uso real em produção, **o SVM seria o mais adequado** neste caso específico, **considerando os bons resultados nos testes e a robustez em problemas com múltiplas variáveis**.\n",
    "\n"
   ]
  }
 ],
 "metadata": {
  "kernelspec": {
   "display_name": ".venv",
   "language": "python",
   "name": "python3"
  },
  "language_info": {
   "codemirror_mode": {
    "name": "ipython",
    "version": 3
   },
   "file_extension": ".py",
   "mimetype": "text/x-python",
   "name": "python",
   "nbconvert_exporter": "python",
   "pygments_lexer": "ipython3",
   "version": "3.13.2"
  }
 },
 "nbformat": 4,
 "nbformat_minor": 2
}
